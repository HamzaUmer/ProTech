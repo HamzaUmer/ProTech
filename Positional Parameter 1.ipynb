{
 "cells": [
  {
   "cell_type": "markdown",
   "metadata": {},
   "source": [
    "# Positional parameter"
   ]
  },
  {
   "cell_type": "code",
   "execution_count": 7,
   "metadata": {},
   "outputs": [],
   "source": [
    "def cal(num1,num2,operator):\n",
    "    if operator == \"+\":\n",
    "        ans=num1+num2\n",
    "        print(f'{num1} + {num2} = {ans}')\n",
    "    elif operator == \"-\":\n",
    "        ans=num1-num2\n",
    "        print(f'{num1} - {num2} = {ans}')\n",
    "    elif operator == \"*\":\n",
    "        ans=num1*num2\n",
    "        print(f'{num1} x{num2} = {ans}')\n",
    "    elif operator == \"/\":   \n",
    "        ans=num1/num2\n",
    "        print(f'{num1} /{num2} = {ans}') \n",
    "    else:\n",
    "        print(\"Invalid operator\")"
   ]
  },
  {
   "cell_type": "code",
   "execution_count": 8,
   "metadata": {},
   "outputs": [
    {
     "name": "stdout",
     "output_type": "stream",
     "text": [
      "3 + 4 = 7\n"
     ]
    }
   ],
   "source": [
    "cal(3,4,'+')"
   ]
  },
  {
   "cell_type": "code",
   "execution_count": 9,
   "metadata": {},
   "outputs": [
    {
     "name": "stdout",
     "output_type": "stream",
     "text": [
      "3 - 4 = -1\n"
     ]
    }
   ],
   "source": [
    "cal(3,4,'-')"
   ]
  },
  {
   "cell_type": "code",
   "execution_count": 10,
   "metadata": {},
   "outputs": [
    {
     "name": "stdout",
     "output_type": "stream",
     "text": [
      "3 x4 = 12\n"
     ]
    }
   ],
   "source": [
    "cal(3,4,'*')"
   ]
  },
  {
   "cell_type": "code",
   "execution_count": 11,
   "metadata": {},
   "outputs": [
    {
     "name": "stdout",
     "output_type": "stream",
     "text": [
      "3 /4 = 0.75\n"
     ]
    }
   ],
   "source": [
    "cal(3,4,'/')"
   ]
  },
  {
   "cell_type": "code",
   "execution_count": null,
   "metadata": {},
   "outputs": [],
   "source": []
  }
 ],
 "metadata": {
  "kernelspec": {
   "display_name": "Python 3",
   "language": "python",
   "name": "python3"
  },
  "language_info": {
   "codemirror_mode": {
    "name": "ipython",
    "version": 3
   },
   "file_extension": ".py",
   "mimetype": "text/x-python",
   "name": "python",
   "nbconvert_exporter": "python",
   "pygments_lexer": "ipython3",
   "version": "3.7.3"
  }
 },
 "nbformat": 4,
 "nbformat_minor": 2
}
