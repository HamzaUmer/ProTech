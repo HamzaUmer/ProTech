{
 "cells": [
  {
   "cell_type": "code",
   "execution_count": 1,
   "metadata": {},
   "outputs": [
    {
     "name": "stdout",
     "output_type": "stream",
     "text": [
      "\n",
      "The NEELUM runs through PAKISTAN.\n",
      "\n",
      "The GANGA runs through INDIA.\n",
      "\n",
      "The KABUL runs through AFGHANISTAN.\n"
     ]
    }
   ],
   "source": [
    "rivers = {\n",
    "    \"neelum\":\"pakistan\",\n",
    "    \"ganga\":\"india\",\n",
    "    \"kabul\":\"afghanistan\",\n",
    "}\n",
    "for k,v  in rivers.items():\n",
    "    print(\"\\nThe\" + \" \" + k.upper() + \" \" + \"runs through\" + \" \" + v.upper()+ \".\")"
   ]
  },
  {
   "cell_type": "code",
   "execution_count": null,
   "metadata": {},
   "outputs": [],
   "source": []
  }
 ],
 "metadata": {
  "kernelspec": {
   "display_name": "Python 3",
   "language": "python",
   "name": "python3"
  },
  "language_info": {
   "codemirror_mode": {
    "name": "ipython",
    "version": 3
   },
   "file_extension": ".py",
   "mimetype": "text/x-python",
   "name": "python",
   "nbconvert_exporter": "python",
   "pygments_lexer": "ipython3",
   "version": "3.7.3"
  }
 },
 "nbformat": 4,
 "nbformat_minor": 2
}
