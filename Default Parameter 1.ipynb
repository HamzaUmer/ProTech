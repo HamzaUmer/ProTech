{
 "cells": [
  {
   "cell_type": "code",
   "execution_count": 1,
   "metadata": {},
   "outputs": [
    {
     "name": "stdout",
     "output_type": "stream",
     "text": [
      "Mirza Hamza umer\n"
     ]
    }
   ],
   "source": [
    "def name(f_name, l_name , m_name = ' '):\n",
    "    if m_name:\n",
    "        full=f_name + ' ' + m_name + ' ' + l_name\n",
    "    else:\n",
    "        full=f_name + ' ' + l_name\n",
    "    return full\n",
    "a=name('Mirza', 'umer', 'Hamza')\n",
    "print(a)"
   ]
  },
  {
   "cell_type": "code",
   "execution_count": 2,
   "metadata": {},
   "outputs": [
    {
     "name": "stdout",
     "output_type": "stream",
     "text": [
      "Mirza   Umer\n"
     ]
    }
   ],
   "source": [
    "b=name('Mirza','Umer')\n",
    "print(b)"
   ]
  },
  {
   "cell_type": "code",
   "execution_count": null,
   "metadata": {},
   "outputs": [],
   "source": []
  }
 ],
 "metadata": {
  "kernelspec": {
   "display_name": "Python 3",
   "language": "python",
   "name": "python3"
  },
  "language_info": {
   "codemirror_mode": {
    "name": "ipython",
    "version": 3
   },
   "file_extension": ".py",
   "mimetype": "text/x-python",
   "name": "python",
   "nbconvert_exporter": "python",
   "pygments_lexer": "ipython3",
   "version": "3.7.3"
  }
 },
 "nbformat": 4,
 "nbformat_minor": 2
}
