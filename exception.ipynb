{
 "cells": [
  {
   "cell_type": "code",
   "execution_count": 1,
   "metadata": {},
   "outputs": [
    {
     "name": "stdout",
     "output_type": "stream",
     "text": [
      "Enter a Number5\n",
      "Enter a Number2\n",
      "Exception is caught is list index out of range\n"
     ]
    }
   ],
   "source": [
    "a=int(input(\"Enter a Number\"))\n",
    "b=int(input(\"Enter a Number\"))\n",
    "d=[]\n",
    "try:\n",
    "    c=a/b\n",
    "    e=d[5]\n",
    "except ZeroDivisionError: # Type Z and press tab to get list of exception\n",
    "    print(\"Exception is caught ZeroDivisionError\")\n",
    "except IndexError: # Type I and press tab to get list of exception\n",
    "    print(\"Exception is caught is list index out of range\")\n",
    "else:\n",
    "    print(c)\n",
    "    print(e)"
   ]
  },
  {
   "cell_type": "code",
   "execution_count": 2,
   "metadata": {},
   "outputs": [
    {
     "name": "stdout",
     "output_type": "stream",
     "text": [
      "Enter a Number5\n",
      "Enter a Number0\n",
      "Exception is caught ZeroDivisionError\n"
     ]
    }
   ],
   "source": [
    "a=int(input(\"Enter a Number\"))\n",
    "b=int(input(\"Enter a Number\"))\n",
    "d=[]\n",
    "try:\n",
    "    c=a/b\n",
    "    e=d[5]\n",
    "except ZeroDivisionError: # Type Z and press tab to get list of exception\n",
    "    print(\"Exception is caught ZeroDivisionError\")\n",
    "except IndexError: # Type I and press tab to get list of exception\n",
    "    print(\"Exception is caught is list index out of range\")\n",
    "else:\n",
    "    print(c)\n",
    "    print(e)"
   ]
  },
  {
   "cell_type": "code",
   "execution_count": null,
   "metadata": {},
   "outputs": [],
   "source": []
  }
 ],
 "metadata": {
  "kernelspec": {
   "display_name": "Python 3",
   "language": "python",
   "name": "python3"
  },
  "language_info": {
   "codemirror_mode": {
    "name": "ipython",
    "version": 3
   },
   "file_extension": ".py",
   "mimetype": "text/x-python",
   "name": "python",
   "nbconvert_exporter": "python",
   "pygments_lexer": "ipython3",
   "version": "3.7.3"
  }
 },
 "nbformat": 4,
 "nbformat_minor": 2
}
