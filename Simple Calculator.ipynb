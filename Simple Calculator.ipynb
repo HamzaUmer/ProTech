{
 "cells": [
  {
   "cell_type": "markdown",
   "metadata": {},
   "source": [
    "# Simple Calculator"
   ]
  },
  {
   "cell_type": "code",
   "execution_count": 3,
   "metadata": {},
   "outputs": [
    {
     "name": "stdout",
     "output_type": "stream",
     "text": [
      "CALCULATOR\n",
      "1.Addition(+)\n",
      "2.Subtraction(-)\n",
      "3.Multiplication(x)\n",
      "4.Division(/)\n",
      "Select operation(1,2,3,4): 2\n",
      "Enter First Value = 4\n",
      "Enter Second Value = 3\n",
      "4 - 3 = 1\n"
     ]
    }
   ],
   "source": [
    "def add(x,y):\n",
    "    return x + y\n",
    "def subtract(x,y):\n",
    "    return x - y\n",
    "def multiply(x,y):\n",
    "    return x * y\n",
    "def division(x,y):\n",
    "    return x / y\n",
    "print('CALCULATOR')\n",
    "print('1.Addition(+)')\n",
    "print('2.Subtraction(-)')\n",
    "print('3.Multiplication(x)')\n",
    "print('4.Division(/)')\n",
    "choice=input(\"Select operation(1,2,3,4): \")\n",
    "num1=int(input('Enter First Value = '))\n",
    "num2=int(input('Enter Second Value = '))\n",
    "if choice == '1':\n",
    "    print(num1,'+',num2,'=',add(num1,num2))\n",
    "elif choice == '2':\n",
    "    print(num1,'-',num2,'=',subtract(num1,num2)) \n",
    "elif choice == '3':\n",
    "    print(num1,'x',num2,'=',multiply(num1,num2))\n",
    "elif choice == '4':\n",
    "    print(num1,'/',num2,'=',division(num1,num2))\n",
    "else:\n",
    "    print(\"Invalid operator\")"
   ]
  },
  {
   "cell_type": "code",
   "execution_count": null,
   "metadata": {},
   "outputs": [],
   "source": []
  }
 ],
 "metadata": {
  "kernelspec": {
   "display_name": "Python 3",
   "language": "python",
   "name": "python3"
  },
  "language_info": {
   "codemirror_mode": {
    "name": "ipython",
    "version": 3
   },
   "file_extension": ".py",
   "mimetype": "text/x-python",
   "name": "python",
   "nbconvert_exporter": "python",
   "pygments_lexer": "ipython3",
   "version": "3.7.3"
  }
 },
 "nbformat": 4,
 "nbformat_minor": 2
}
