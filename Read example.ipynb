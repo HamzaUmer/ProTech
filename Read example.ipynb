{
 "cells": [
  {
   "cell_type": "code",
   "execution_count": 1,
   "metadata": {},
   "outputs": [
    {
     "name": "stdout",
     "output_type": "stream",
     "text": [
      "x=int(input(\"Value of x = \"))\n",
      "y=int(input(\"Value of y = \"))\n",
      "temp=x\n",
      "x=y\n",
      "y=temp\n",
      "print(\"The value of x after swaping = {}\".format(x))\n",
      "print(\"The value of y after swaping = {}\".format(y))\n",
      "\n"
     ]
    }
   ],
   "source": [
    "with open(\"Two Variable Swaping.py\",\"r\") as file:\n",
    "    content=file.read()\n",
    "print(content)"
   ]
  },
  {
   "cell_type": "code",
   "execution_count": null,
   "metadata": {},
   "outputs": [],
   "source": []
  }
 ],
 "metadata": {
  "kernelspec": {
   "display_name": "Python 3",
   "language": "python",
   "name": "python3"
  },
  "language_info": {
   "codemirror_mode": {
    "name": "ipython",
    "version": 3
   },
   "file_extension": ".py",
   "mimetype": "text/x-python",
   "name": "python",
   "nbconvert_exporter": "python",
   "pygments_lexer": "ipython3",
   "version": "3.7.3"
  }
 },
 "nbformat": 4,
 "nbformat_minor": 2
}
