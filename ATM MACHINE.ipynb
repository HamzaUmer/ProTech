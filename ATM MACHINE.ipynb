{
 "cells": [
  {
   "cell_type": "markdown",
   "metadata": {},
   "source": [
    "# ATM MACHINE"
   ]
  },
  {
   "cell_type": "code",
   "execution_count": null,
   "metadata": {},
   "outputs": [],
   "source": [
    "print(\"Welcome to Habib Bank Limited\")\n",
    "chances = 3\n",
    "restart = 'Y'\n",
    "balance = 100000\n",
    "while chances >= 0 :\n",
    "    pin=int(input(\"Enter 4 number pincode :\"))\n",
    "    if pin == (7869):\n",
    "        print(\"Your pincode is correct\\n\")\n",
    "        while restart not in ('n','N','No','no'):\n",
    "            print(\"Please press 1 for checking your Balance\\n\")\n",
    "            print(\"Please press 2 for withdrawl\\n\")\n",
    "            print(\"Please press 3 for pay in\\n\")\n",
    "            print(\"Please press 4 for return card\\n\")\n",
    "            option=int(input(\"Choose your option (1/2/3/4): \"))\n",
    "            if option == 1:\n",
    "                print(\"Your Balance is : \",balance,'\\n')\n",
    "                restart=input(\"Whould You like to go back ?\")\n",
    "                if restart in ('n','N','no','No'):\n",
    "                    print(\"Thank You\")\n",
    "                    break\n",
    "                elif option == 2:\n",
    "                    withdrawl=float(input(\"How much do you like to withdrawl? \\n\"))\n",
    "                    if withdrawl in [500,1000,2000,5000,10000]:\n",
    "                        balance=balance-withdrawl\n",
    "                        print(\"\\n Your balance is : \",balance)\n",
    "                        restart=input('Would you like to go back ? \\n')\n",
    "                        if restart in ('n','N','no','No'):\n",
    "                            print('Thank You')\n",
    "                            break\n",
    "                        elif withdrawl != [500,1000,2000,5000,10000]:\n",
    "                            print('Invalid choice')\n",
    "                            restart=('Y')\n",
    "                        elif withdrawl==1:\n",
    "                            print('Enter your Desired amount\\n')\n",
    "                elif option == 3:\n",
    "                    payin=int(input(\"How much would you like to pay in your account\\n\"))\n",
    "                    balance=balance+payin\n",
    "                    print(\"\\n Your Balance is : \",balance,'\\n')\n",
    "                    restart=input('Would you like to go back ? \\n')\n",
    "                    if restart in ('n','N','no','No'):\n",
    "                        print('Thank You')\n",
    "                        break\n",
    "                elif option == 4:\n",
    "                    print(\"Please Wait whilst for your card\")\n",
    "                    print('Thanks for your Services')\n",
    "                    break\n",
    "    else:\n",
    "        print(\"Please enter a correct pin\")\n",
    "        print(\"Incorrect pincode\")\n",
    "        chances=chances - 1\n",
    "        if chances == 0:\n",
    "            print('\\n no more tries')"
   ]
  },
  {
   "cell_type": "code",
   "execution_count": null,
   "metadata": {},
   "outputs": [],
   "source": []
  }
 ],
 "metadata": {
  "kernelspec": {
   "display_name": "Python 3",
   "language": "python",
   "name": "python3"
  }
 },
 "nbformat": 4,
 "nbformat_minor": 2
}
