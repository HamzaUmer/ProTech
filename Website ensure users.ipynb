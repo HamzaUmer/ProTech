{
 "cells": [
  {
   "cell_type": "code",
   "execution_count": 1,
   "metadata": {},
   "outputs": [
    {
     "name": "stdout",
     "output_type": "stream",
     "text": [
      "affan is available.\n",
      "afrah is available.\n",
      "saad is available.\n",
      "areeba will need to enter a new username.\n",
      "hamza will need to enter a new username.\n"
     ]
    }
   ],
   "source": [
    "current_users = ['hamza','mutayyab','areeba','nauman','azka']\n",
    "new_users = ['affan','afrah','saad','areeba','hamza']\n",
    "\n",
    "current_users_low = [cur.lower() for cur in current_users]\n",
    "new_users_low = [cur.lower() for cur in new_users]\n",
    "\n",
    "for new_user in new_users_low:\n",
    "    if new_user in current_users_low:\n",
    "        print(new_user,\"will need to enter a new username.\")\n",
    "    else:\n",
    "        print(new_user, \"is available.\")"
   ]
  },
  {
   "cell_type": "code",
   "execution_count": null,
   "metadata": {},
   "outputs": [],
   "source": []
  }
 ],
 "metadata": {
  "kernelspec": {
   "display_name": "Python 3",
   "language": "python",
   "name": "python3"
  },
  "language_info": {
   "codemirror_mode": {
    "name": "ipython",
    "version": 3
   },
   "file_extension": ".py",
   "mimetype": "text/x-python",
   "name": "python",
   "nbconvert_exporter": "python",
   "pygments_lexer": "ipython3",
   "version": "3.7.3"
  }
 },
 "nbformat": 4,
 "nbformat_minor": 2
}
