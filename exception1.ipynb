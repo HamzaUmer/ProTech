{
 "cells": [
  {
   "cell_type": "code",
   "execution_count": 1,
   "metadata": {},
   "outputs": [
    {
     "name": "stdout",
     "output_type": "stream",
     "text": [
      "Enter a Number5\n",
      "Enter a Number0\n",
      "Handle Error == division by zero\n",
      "kkk\n"
     ]
    }
   ],
   "source": [
    "a=int(input(\"Enter a Number\"))\n",
    "b=int(input(\"Enter a Number\"))\n",
    "d=[]\n",
    "try:\n",
    "    c=a/b\n",
    "    e=d[5]\n",
    "except Exception as pak : #here we did not explain the type of exception. Generate\n",
    "    print(\"Handle Error == \" +str(pak))\n",
    "else:\n",
    "    print(c)\n",
    "\n",
    "print(\"kkk\")"
   ]
  },
  {
   "cell_type": "code",
   "execution_count": 2,
   "metadata": {},
   "outputs": [
    {
     "name": "stdout",
     "output_type": "stream",
     "text": [
      "Enter a Number5\n",
      "Enter a Number2\n",
      "222\n",
      "2.5\n"
     ]
    }
   ],
   "source": [
    "#a=int(input(\"Enter a Number\"))\n",
    "#b=int(input(\"Enter a Number\"))\n",
    "d=[5, 56 , 222]\n",
    "try:\n",
    "    a=int(input(\"Enter a Number\"))\n",
    "    b=int(input(\"Enter a Number\"))\n",
    "    c=a/b\n",
    "    f=d[2]\n",
    "except Exception as pak : #here we did not explain the type of exception. Generate\n",
    "    print(\"Handle Error == \" +str(pak))\n",
    "else:\n",
    "    print(f)\n",
    "\n",
    "print(c)"
   ]
  },
  {
   "cell_type": "code",
   "execution_count": null,
   "metadata": {},
   "outputs": [],
   "source": []
  }
 ],
 "metadata": {
  "kernelspec": {
   "display_name": "Python 3",
   "language": "python",
   "name": "python3"
  },
  "language_info": {
   "codemirror_mode": {
    "name": "ipython",
    "version": 3
   },
   "file_extension": ".py",
   "mimetype": "text/x-python",
   "name": "python",
   "nbconvert_exporter": "python",
   "pygments_lexer": "ipython3",
   "version": "3.7.3"
  }
 },
 "nbformat": 4,
 "nbformat_minor": 2
}
