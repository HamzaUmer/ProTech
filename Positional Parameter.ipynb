{
 "cells": [
  {
   "cell_type": "markdown",
   "metadata": {},
   "source": [
    "# Positional Parameter"
   ]
  },
  {
   "cell_type": "code",
   "execution_count": 5,
   "metadata": {},
   "outputs": [],
   "source": [
    "def my_name():\n",
    "    First_Name=input(\"Enter Your First name : \")\n",
    "    Middle_Name=input(\"Enter Your Middle name : \")\n",
    "    Last_Name=input(\"Enter Your Last name : \")\n",
    "    My_Full_name=First_Name + ' ' + Middle_Name + ' ' + Last_Name\n",
    "    print(\"My Name is\" + ' '+ My_Full_name.title())"
   ]
  },
  {
   "cell_type": "code",
   "execution_count": 6,
   "metadata": {},
   "outputs": [
    {
     "name": "stdout",
     "output_type": "stream",
     "text": [
      "Enter Your First name : Mirza\n",
      "Enter Your Middle name : Hamza\n",
      "Enter Your Last name : Umer\n",
      "My Name is Mirza Hamza Umer\n"
     ]
    }
   ],
   "source": [
    "my_name()"
   ]
  },
  {
   "cell_type": "code",
   "execution_count": null,
   "metadata": {},
   "outputs": [],
   "source": []
  }
 ],
 "metadata": {
  "kernelspec": {
   "display_name": "Python 3",
   "language": "python",
   "name": "python3"
  },
  "language_info": {
   "codemirror_mode": {
    "name": "ipython",
    "version": 3
   },
   "file_extension": ".py",
   "mimetype": "text/x-python",
   "name": "python",
   "nbconvert_exporter": "python",
   "pygments_lexer": "ipython3",
   "version": "3.7.3"
  }
 },
 "nbformat": 4,
 "nbformat_minor": 2
}
