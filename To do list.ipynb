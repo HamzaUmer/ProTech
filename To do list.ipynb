{
 "cells": [
  {
   "cell_type": "markdown",
   "metadata": {},
   "source": [
    "# ASSINGMENT 2"
   ]
  },
  {
   "cell_type": "code",
   "execution_count": 14,
   "metadata": {},
   "outputs": [],
   "source": [
    "Routine_List=['Go to jogging','Go to university','Playing Cricket','Go to Gym','Go to Bed']\n",
    "Finished_Routine_list=[]"
   ]
  },
  {
   "cell_type": "code",
   "execution_count": 15,
   "metadata": {},
   "outputs": [
    {
     "name": "stdout",
     "output_type": "stream",
     "text": [
      "Enter Routine which is complete : Go to jogging\n",
      "Routine :  ['Go to university', 'Playing Cricket', 'Go to Gym', 'Go to Bed']\n",
      "Finished Routine :  ['Go to jogging']\n"
     ]
    }
   ],
   "source": [
    "x=input(\"Enter Routine which is complete : \")\n",
    "if x in Routine_List:\n",
    "    done=Routine_List.index(x)\n",
    "    Routine_List.pop(done)\n",
    "    Finished_Routine_list.append(x)\n",
    "    print('Routine : ',Routine_List)\n",
    "    print('Finished Routine : ',Finished_Routine_list)\n",
    "else:\n",
    "    print(\"Undefined routine\")"
   ]
  },
  {
   "cell_type": "markdown",
   "metadata": {},
   "source": [
    "Name : Mirza Hamza Umer"
   ]
  },
  {
   "cell_type": "markdown",
   "metadata": {},
   "source": [
    "Insitute : Sir Adamjee Insitute"
   ]
  },
  {
   "cell_type": "markdown",
   "metadata": {},
   "source": [
    "Timing(Ramadan) : 2:45 to 4:45"
   ]
  },
  {
   "cell_type": "markdown",
   "metadata": {},
   "source": [
    "Teacher : Sir Nasir"
   ]
  },
  {
   "cell_type": "code",
   "execution_count": null,
   "metadata": {},
   "outputs": [],
   "source": []
  }
 ],
 "metadata": {
  "kernelspec": {
   "display_name": "Python 3",
   "language": "python",
   "name": "python3"
  },
  "language_info": {
   "codemirror_mode": {
    "name": "ipython",
    "version": 3
   },
   "file_extension": ".py",
   "mimetype": "text/x-python",
   "name": "python",
   "nbconvert_exporter": "python",
   "pygments_lexer": "ipython3",
   "version": "3.7.3"
  }
 },
 "nbformat": 4,
 "nbformat_minor": 2
}
