{
 "cells": [
  {
   "cell_type": "markdown",
   "metadata": {},
   "source": [
    "# Dictionary Example"
   ]
  },
  {
   "cell_type": "code",
   "execution_count": 1,
   "metadata": {},
   "outputs": [
    {
     "name": "stdout",
     "output_type": "stream",
     "text": [
      "{'first_name': 'Zaheer', 'last_name': 'Ahmed', 'age': 30, 'city': 'Karachi'}\n"
     ]
    }
   ],
   "source": [
    "data = {\n",
    "    \"first_name\":\"Zaheer\",\n",
    "    \"last_name\":\"Ahmed\",\n",
    "    \"age\":30,\n",
    "    \"city\":\"Karachi\",\n",
    "}\n",
    "print(data)"
   ]
  },
  {
   "cell_type": "code",
   "execution_count": 2,
   "metadata": {},
   "outputs": [
    {
     "name": "stdout",
     "output_type": "stream",
     "text": [
      "Zaheer\n",
      "Ahmed\n",
      "30\n",
      "Karachi\n"
     ]
    }
   ],
   "source": [
    "print(data[\"first_name\"])\n",
    "print(data[\"last_name\"])\n",
    "print(data[\"age\"])\n",
    "print(data[\"city\"])"
   ]
  },
  {
   "cell_type": "code",
   "execution_count": null,
   "metadata": {},
   "outputs": [],
   "source": []
  }
 ],
 "metadata": {
  "kernelspec": {
   "display_name": "Python 3",
   "language": "python",
   "name": "python3"
  },
  "language_info": {
   "codemirror_mode": {
    "name": "ipython",
    "version": 3
   },
   "file_extension": ".py",
   "mimetype": "text/x-python",
   "name": "python",
   "nbconvert_exporter": "python",
   "pygments_lexer": "ipython3",
   "version": "3.7.3"
  }
 },
 "nbformat": 4,
 "nbformat_minor": 2
}
