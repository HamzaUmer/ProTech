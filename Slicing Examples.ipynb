{
 "cells": [
  {
   "cell_type": "markdown",
   "metadata": {},
   "source": [
    "# Slicing Examples"
   ]
  },
  {
   "cell_type": "code",
   "execution_count": 1,
   "metadata": {},
   "outputs": [
    {
     "name": "stdout",
     "output_type": "stream",
     "text": [
      "Favourite Dishes\n",
      "['Beef Briyani', 'Chapli Kabab', 'Pasta', 'Burgers', 'Phali Allu', 'Beef Pulao', 'Mutton Karahi', 'Nihari', 'Italian Sandwich']\n",
      "The first three items in the list are: \n",
      "['Beef Briyani', 'Chapli Kabab', 'Pasta']\n",
      "Three items from the middle of the list are: \n",
      "['Burgers', 'Phali Allu', 'Beef Pulao']\n",
      "The Last three items in the list are: \n",
      "['Mutton Karahi', 'Nihari', 'Italian Sandwich']\n"
     ]
    }
   ],
   "source": [
    "print(\"Favourite Dishes\")\n",
    "foods=[\"Beef Briyani\",\"Chapli Kabab\",\"Pasta\",\"Burgers\",\"Phali Allu\",\"Beef Pulao\",\"Mutton Karahi\",\"Nihari\",\"Italian Sandwich\"]\n",
    "print(foods)\n",
    "\n",
    "print(\"The first three items in the list are: \")\n",
    "print(foods[0:3])\n",
    "\n",
    "print(\"Three items from the middle of the list are: \")\n",
    "print(foods[3:6])\n",
    "\n",
    "print(\"The Last three items in the list are: \")\n",
    "print(foods[6:9])"
   ]
  },
  {
   "cell_type": "code",
   "execution_count": null,
   "metadata": {},
   "outputs": [],
   "source": []
  }
 ],
 "metadata": {
  "kernelspec": {
   "display_name": "Python 3",
   "language": "python",
   "name": "python3"
  },
  "language_info": {
   "codemirror_mode": {
    "name": "ipython",
    "version": 3
   },
   "file_extension": ".py",
   "mimetype": "text/x-python",
   "name": "python",
   "nbconvert_exporter": "python",
   "pygments_lexer": "ipython3",
   "version": "3.7.3"
  }
 },
 "nbformat": 4,
 "nbformat_minor": 2
}
