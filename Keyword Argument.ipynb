{
 "cells": [
  {
   "cell_type": "markdown",
   "metadata": {},
   "source": [
    "# Keyword Argument"
   ]
  },
  {
   "cell_type": "code",
   "execution_count": 1,
   "metadata": {},
   "outputs": [],
   "source": [
    "def cal(num1,num2,operator):\n",
    "    if operator == \"+\":\n",
    "        ans=num1+num2\n",
    "        print(f'{num1} + {num2} = {ans}')\n",
    "    elif operator == \"-\":\n",
    "        ans=num1-num2\n",
    "        print(f'{num1} - {num2} = {ans}')\n",
    "    elif operator == \"*\":\n",
    "        ans=num1*num2\n",
    "        print(f'{num1} x{num2} = {ans}')\n",
    "    elif operator == \"/\":   \n",
    "        ans=num1/num2\n",
    "        print(f'{num1} /{num2} = {ans}') \n",
    "    else:\n",
    "        print(\"Invalid operator\")"
   ]
  },
  {
   "cell_type": "code",
   "execution_count": 2,
   "metadata": {},
   "outputs": [
    {
     "name": "stdout",
     "output_type": "stream",
     "text": [
      "Invalid operator\n"
     ]
    }
   ],
   "source": [
    "#If we change the postion of given parameter in define function so its show error for resolving this problem we use keyword Argument Here.\n",
    "cal(3,'+',4)"
   ]
  },
  {
   "cell_type": "code",
   "execution_count": 3,
   "metadata": {},
   "outputs": [
    {
     "name": "stdout",
     "output_type": "stream",
     "text": [
      "3 + 4 = 7\n"
     ]
    }
   ],
   "source": [
    "cal(num1=3,num2=4,operator='+')"
   ]
  },
  {
   "cell_type": "code",
   "execution_count": 4,
   "metadata": {},
   "outputs": [
    {
     "name": "stdout",
     "output_type": "stream",
     "text": [
      "3 - 4 = -1\n"
     ]
    }
   ],
   "source": [
    "cal(operator='-',num2=4,num1=3)"
   ]
  },
  {
   "cell_type": "code",
   "execution_count": null,
   "metadata": {},
   "outputs": [],
   "source": []
  }
 ],
 "metadata": {
  "kernelspec": {
   "display_name": "Python 3",
   "language": "python",
   "name": "python3"
  },
  "language_info": {
   "codemirror_mode": {
    "name": "ipython",
    "version": 3
   },
   "file_extension": ".py",
   "mimetype": "text/x-python",
   "name": "python",
   "nbconvert_exporter": "python",
   "pygments_lexer": "ipython3",
   "version": "3.7.3"
  }
 },
 "nbformat": 4,
 "nbformat_minor": 2
}
