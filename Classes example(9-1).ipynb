{
 "cells": [
  {
   "cell_type": "markdown",
   "metadata": {},
   "source": [
    "# Example of Resturant(9-1) from Smarter way to learn python"
   ]
  },
  {
   "cell_type": "code",
   "execution_count": 1,
   "metadata": {},
   "outputs": [],
   "source": [
    "class resturant():\n",
    "    def __init__(self,resturantName,cuisineType):\n",
    "        self.resturantName=resturantName\n",
    "        self.cuisineType=cuisineType\n",
    "    def describe_resturant(self):\n",
    "        print(f\"The Name of resturant is {self.resturantName} \")\n",
    "        print(f\"The cuisine type is {self.cuisineType} \")\n",
    "    def openResturant(self):\n",
    "        print(f\"{self.resturantName} is now open today\")"
   ]
  },
  {
   "cell_type": "code",
   "execution_count": 2,
   "metadata": {},
   "outputs": [],
   "source": [
    "r1=resturant(\"Afridi Inn\",\"Desi Pakwan\")"
   ]
  },
  {
   "cell_type": "code",
   "execution_count": 3,
   "metadata": {},
   "outputs": [
    {
     "name": "stdout",
     "output_type": "stream",
     "text": [
      "Afridi Inn\n",
      "Desi Pakwan\n"
     ]
    }
   ],
   "source": [
    "print(r1.resturantName)\n",
    "print(r1.cuisineType)"
   ]
  },
  {
   "cell_type": "code",
   "execution_count": 4,
   "metadata": {},
   "outputs": [
    {
     "name": "stdout",
     "output_type": "stream",
     "text": [
      "The Name of resturant is Afridi Inn \n",
      "The cuisine type is Desi Pakwan \n",
      "Afridi Inn is now open today\n"
     ]
    }
   ],
   "source": [
    "r1.describe_resturant()\n",
    "r1.openResturant()"
   ]
  },
  {
   "cell_type": "code",
   "execution_count": null,
   "metadata": {},
   "outputs": [],
   "source": []
  }
 ],
 "metadata": {
  "kernelspec": {
   "display_name": "Python 3",
   "language": "python",
   "name": "python3"
  },
  "language_info": {
   "codemirror_mode": {
    "name": "ipython",
    "version": 3
   },
   "file_extension": ".py",
   "mimetype": "text/x-python",
   "name": "python",
   "nbconvert_exporter": "python",
   "pygments_lexer": "ipython3",
   "version": "3.7.3"
  }
 },
 "nbformat": 4,
 "nbformat_minor": 2
}
