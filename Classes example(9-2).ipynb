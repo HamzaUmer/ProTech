{
 "cells": [
  {
   "cell_type": "markdown",
   "metadata": {},
   "source": [
    "# Example of Resturant(9-2) from Smarter way to learn python"
   ]
  },
  {
   "cell_type": "code",
   "execution_count": 1,
   "metadata": {},
   "outputs": [],
   "source": [
    "class resturant():\n",
    "    def __init__(self,resturantName,cuisineType):\n",
    "        self.resturantName=resturantName\n",
    "        self.cuisineType=cuisineType\n",
    "    def describe_resturant(self):\n",
    "        print(f\"The Name of resturant is {self.resturantName} \")\n",
    "        print(f\"The cuisine type is {self.cuisineType} \")\n",
    "    def openResturant(self):\n",
    "        print(f\"{self.resturantName} is now open today\")"
   ]
  },
  {
   "cell_type": "code",
   "execution_count": 2,
   "metadata": {},
   "outputs": [],
   "source": [
    "r2=resturant(\"Kaybees\",\"Chinese\")\n",
    "r3=resturant(\"Kolachi\",\"BBQ\")\n",
    "r4=resturant(\"Shaheen Shinwari\",\"Desi Pakwan\")"
   ]
  },
  {
   "cell_type": "code",
   "execution_count": 3,
   "metadata": {},
   "outputs": [
    {
     "name": "stdout",
     "output_type": "stream",
     "text": [
      "The Name of resturant is Kaybees \n",
      "The cuisine type is Chinese \n"
     ]
    }
   ],
   "source": [
    "r2.describe_resturant()"
   ]
  },
  {
   "cell_type": "code",
   "execution_count": 4,
   "metadata": {},
   "outputs": [
    {
     "name": "stdout",
     "output_type": "stream",
     "text": [
      "The Name of resturant is Kolachi \n",
      "The cuisine type is BBQ \n"
     ]
    }
   ],
   "source": [
    "r3.describe_resturant()"
   ]
  },
  {
   "cell_type": "code",
   "execution_count": 5,
   "metadata": {},
   "outputs": [
    {
     "name": "stdout",
     "output_type": "stream",
     "text": [
      "The Name of resturant is Shaheen Shinwari \n",
      "The cuisine type is Desi Pakwan \n"
     ]
    }
   ],
   "source": [
    "r4.describe_resturant()"
   ]
  },
  {
   "cell_type": "code",
   "execution_count": null,
   "metadata": {},
   "outputs": [],
   "source": []
  }
 ],
 "metadata": {
  "kernelspec": {
   "display_name": "Python 3",
   "language": "python",
   "name": "python3"
  },
  "language_info": {
   "codemirror_mode": {
    "name": "ipython",
    "version": 3
   },
   "file_extension": ".py",
   "mimetype": "text/x-python",
   "name": "python",
   "nbconvert_exporter": "python",
   "pygments_lexer": "ipython3",
   "version": "3.7.3"
  }
 },
 "nbformat": 4,
 "nbformat_minor": 2
}
