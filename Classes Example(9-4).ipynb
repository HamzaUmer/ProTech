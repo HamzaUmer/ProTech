{
 "cells": [
  {
   "cell_type": "markdown",
   "metadata": {},
   "source": [
    "# Example (9-4) from smarter way to learn python"
   ]
  },
  {
   "cell_type": "code",
   "execution_count": 1,
   "metadata": {},
   "outputs": [],
   "source": [
    "class resturant():\n",
    "    def __init__(self,resturantName,cuisineType):\n",
    "        self.resturantName=resturantName\n",
    "        self.cuisineType=cuisineType\n",
    "        self.numbersServed = 0\n",
    "    def describe_resturant(self):\n",
    "        print(f\"The Name of resturant is {self.resturantName} \")\n",
    "        print(f\"The cuisine type is {self.cuisineType} \")\n",
    "    def openResturant(self):\n",
    "        print(f\"{self.resturantName} is now open today\")\n",
    "    def setNumberServed(self,serve):\n",
    "        self.numbersServed = serve\n",
    "    def getNumberServed(self):\n",
    "        print(f'{self.numbersServed} customers are served')\n",
    "    def increment_number_served(self,serve):\n",
    "        self.numbersServed+=serve"
   ]
  },
  {
   "cell_type": "code",
   "execution_count": 2,
   "metadata": {},
   "outputs": [],
   "source": [
    "Resturant = resturant(\"Pizza Max\",\"Pizza\")"
   ]
  },
  {
   "cell_type": "code",
   "execution_count": 3,
   "metadata": {},
   "outputs": [
    {
     "data": {
      "text/plain": [
       "0"
      ]
     },
     "execution_count": 3,
     "metadata": {},
     "output_type": "execute_result"
    }
   ],
   "source": [
    "Resturant.numbersServed # direct hit and get value"
   ]
  },
  {
   "cell_type": "code",
   "execution_count": 4,
   "metadata": {},
   "outputs": [],
   "source": [
    "Resturant.numbersServed = 20 #direct hit and changed value"
   ]
  },
  {
   "cell_type": "code",
   "execution_count": 5,
   "metadata": {},
   "outputs": [
    {
     "data": {
      "text/plain": [
       "20"
      ]
     },
     "execution_count": 5,
     "metadata": {},
     "output_type": "execute_result"
    }
   ],
   "source": [
    "Resturant.numbersServed"
   ]
  },
  {
   "cell_type": "code",
   "execution_count": 6,
   "metadata": {},
   "outputs": [
    {
     "data": {
      "text/plain": [
       "40"
      ]
     },
     "execution_count": 6,
     "metadata": {},
     "output_type": "execute_result"
    }
   ],
   "source": [
    "Resturant.setNumberServed(40) #changed value via function setter\n",
    "Resturant.numbersServed"
   ]
  },
  {
   "cell_type": "code",
   "execution_count": 7,
   "metadata": {},
   "outputs": [
    {
     "data": {
      "text/plain": [
       "70"
      ]
     },
     "execution_count": 7,
     "metadata": {},
     "output_type": "execute_result"
    }
   ],
   "source": [
    "Resturant.increment_number_served(30)\n",
    "Resturant.numbersServed"
   ]
  },
  {
   "cell_type": "code",
   "execution_count": null,
   "metadata": {},
   "outputs": [],
   "source": [
    "Resturant.getNumberServed()"
   ]
  }
 ],
 "metadata": {
  "kernelspec": {
   "display_name": "Python 3",
   "language": "python",
   "name": "python3"
  },
  "language_info": {
   "codemirror_mode": {
    "name": "ipython",
    "version": 3
   },
   "file_extension": ".py",
   "mimetype": "text/x-python",
   "name": "python",
   "nbconvert_exporter": "python",
   "pygments_lexer": "ipython3",
   "version": "3.7.3"
  }
 },
 "nbformat": 4,
 "nbformat_minor": 2
}
