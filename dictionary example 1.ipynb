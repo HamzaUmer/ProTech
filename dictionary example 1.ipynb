{
 "cells": [
  {
   "cell_type": "code",
   "execution_count": 1,
   "metadata": {},
   "outputs": [
    {
     "name": "stdout",
     "output_type": "stream",
     "text": [
      "\n",
      "key: first_name\n",
      "value: Zaheer\n",
      "\n",
      "key: last_name\n",
      "value: Ahmed\n",
      "\n",
      "key: age\n",
      "value: 30\n",
      "\n",
      "key: city\n",
      "value: Karachi\n"
     ]
    }
   ],
   "source": [
    "data = {\n",
    "    \"first_name\":\"Zaheer\",\n",
    "    \"last_name\":\"Ahmed\",\n",
    "    \"age\":30,\n",
    "    \"city\":\"Karachi\",\n",
    "}\n",
    "\n",
    "for keys,values in data.items():\n",
    "    print(\"\\nkey:\",keys)\n",
    "    print(\"value:\",values)"
   ]
  },
  {
   "cell_type": "code",
   "execution_count": 2,
   "metadata": {},
   "outputs": [
    {
     "name": "stdout",
     "output_type": "stream",
     "text": [
      "\n",
      "key:first_name\n",
      "value:Zaheer\n",
      "\n",
      "key:last_name\n",
      "value:Ahmed\n",
      "\n",
      "key:age\n",
      "value:30\n",
      "\n",
      "key:city\n",
      "value:Karachi\n",
      "\n",
      "key:string\n",
      "value:A series of characters.\n",
      "\n",
      "key:comment\n",
      "value:A note in a program that the Python interpreter ignores.\n",
      "\n",
      "key:list\n",
      "value:A collection of items in a particular order.\n",
      "\n",
      "key:loop\n",
      "value:Work through a collection of items, one at a time.\n",
      "\n",
      "key:dictionary\n",
      "value:A collection of key-value pairs.\n"
     ]
    }
   ],
   "source": [
    "data = {\n",
    "    \"first_name\":\"Zaheer\",\n",
    "    \"last_name\":\"Ahmed\",\n",
    "    \"age\":\"30\",\n",
    "    \"city\":\"Karachi\",\n",
    "    \n",
    "    'string': 'A series of characters.',\n",
    "    'comment': 'A note in a program that the Python interpreter ignores.',\n",
    "    'list': 'A collection of items in a particular order.',\n",
    "    'loop': 'Work through a collection of items, one at a time.',\n",
    "    'dictionary': \"A collection of key-value pairs.\",\n",
    "}\n",
    "\n",
    "for keys,values in data.items():\n",
    "    print(\"\\nkey:\" + keys)\n",
    "    print(\"value:\" + values)"
   ]
  },
  {
   "cell_type": "code",
   "execution_count": null,
   "metadata": {},
   "outputs": [],
   "source": []
  }
 ],
 "metadata": {
  "kernelspec": {
   "display_name": "Python 3",
   "language": "python",
   "name": "python3"
  },
  "language_info": {
   "codemirror_mode": {
    "name": "ipython",
    "version": 3
   },
   "file_extension": ".py",
   "mimetype": "text/x-python",
   "name": "python",
   "nbconvert_exporter": "python",
   "pygments_lexer": "ipython3",
   "version": "3.7.3"
  }
 },
 "nbformat": 4,
 "nbformat_minor": 2
}
