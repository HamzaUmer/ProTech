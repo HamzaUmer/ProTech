{
 "cells": [
  {
   "cell_type": "code",
   "execution_count": 4,
   "metadata": {},
   "outputs": [
    {
     "name": "stdout",
     "output_type": "stream",
     "text": [
      "Who's there ? cat\n",
      "Identify\n",
      "Who's there ? dog\n",
      "Identify\n",
      "dog is not allowed\n"
     ]
    }
   ],
   "source": [
    "Animal=True\n",
    "while Animal:\n",
    "    name=input(\"Who's there ? \")\n",
    "    print(\"Identify\")\n",
    "    if name != \"cat\":\n",
    "        Animal=False\n",
    "        print(f\"{name} is not allowed\")"
   ]
  },
  {
   "cell_type": "code",
   "execution_count": null,
   "metadata": {},
   "outputs": [],
   "source": []
  }
 ],
 "metadata": {
  "kernelspec": {
   "display_name": "Python 3",
   "language": "python",
   "name": "python3"
  },
  "language_info": {
   "codemirror_mode": {
    "name": "ipython",
    "version": 3
   },
   "file_extension": ".py",
   "mimetype": "text/x-python",
   "name": "python",
   "nbconvert_exporter": "python",
   "pygments_lexer": "ipython3",
   "version": "3.7.3"
  }
 },
 "nbformat": 4,
 "nbformat_minor": 2
}
