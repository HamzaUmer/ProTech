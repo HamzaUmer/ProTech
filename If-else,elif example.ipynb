{
 "cells": [
  {
   "cell_type": "markdown",
   "metadata": {},
   "source": [
    "# If-else,elif example"
   ]
  },
  {
   "cell_type": "code",
   "execution_count": 1,
   "metadata": {},
   "outputs": [
    {
     "name": "stdout",
     "output_type": "stream",
     "text": [
      "Tell the age of person : 9\n",
      "The person is a kid.\n"
     ]
    }
   ],
   "source": [
    "age=int(input(\"Tell the age of person : \"))\n",
    "if age<2:\n",
    "    print(\"The person is a baby.\")\n",
    "elif 2<=age<4:\n",
    "    print(\"The person is a toddler.\")\n",
    "elif 4<=age<13:\n",
    "    print(\"The person is a kid.\")\n",
    "elif 13<=age<20:\n",
    "    print(\"The person is a teenager.\")\n",
    "elif 20<=age<65:\n",
    "    print(\"The person is an adult.\")\n",
    "else:\n",
    "    print(\"The person is an elder.\")"
   ]
  },
  {
   "cell_type": "code",
   "execution_count": null,
   "metadata": {},
   "outputs": [],
   "source": []
  }
 ],
 "metadata": {
  "kernelspec": {
   "display_name": "Python 3",
   "language": "python",
   "name": "python3"
  },
  "language_info": {
   "codemirror_mode": {
    "name": "ipython",
    "version": 3
   },
   "file_extension": ".py",
   "mimetype": "text/x-python",
   "name": "python",
   "nbconvert_exporter": "python",
   "pygments_lexer": "ipython3",
   "version": "3.7.3"
  }
 },
 "nbformat": 4,
 "nbformat_minor": 2
}
